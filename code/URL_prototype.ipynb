{
  "nbformat": 4,
  "nbformat_minor": 0,
  "metadata": {
    "colab": {
      "name": "URL_prototype.ipynb",
      "provenance": []
    },
    "kernelspec": {
      "name": "python3",
      "display_name": "Python 3"
    },
    "language_info": {
      "name": "python"
    }
  },
  "cells": [
    {
      "cell_type": "markdown",
      "source": [
        "# Connect Google Drive\n",
        " Mount your google drive and add **phishingURL.pkl** into it to use"
      ],
      "metadata": {
        "id": "B9-8ZjBpBMcb"
      }
    },
    {
      "cell_type": "code",
      "source": [
        "from google.colab import drive\n",
        "drive.mount(\"/content/gdrive\")"
      ],
      "metadata": {
        "colab": {
          "base_uri": "https://localhost:8080/"
        },
        "id": "6DbfqAuaRJk8",
        "outputId": "6b261b37-fadd-4728-eae9-2fc9af591f06"
      },
      "execution_count": 1,
      "outputs": [
        {
          "output_type": "stream",
          "name": "stdout",
          "text": [
            "Mounted at /content/gdrive\n"
          ]
        }
      ]
    },
    {
      "cell_type": "markdown",
      "source": [
        "#Change Path \n",
        " Update path to where you place **phishingURL.pkl** in your google drive"
      ],
      "metadata": {
        "id": "-bWxVXHxBiRf"
      }
    },
    {
      "cell_type": "code",
      "source": [
        "import pickle\n",
        "loaded_model = pickle.load(open('/content/gdrive/MyDrive/Phishing/phishingURL.pkl', 'rb'))"
      ],
      "metadata": {
        "id": "3Apz6s8iu3-i"
      },
      "execution_count": 3,
      "outputs": []
    },
    {
      "cell_type": "code",
      "source": [
        "x = \"\"\n",
        "while True: \n",
        "  x = input(\"Enter URL to classify (enter n to stop): \")\n",
        "  if x == \"n\": \n",
        "    break\n",
        "  l = [x]\n",
        "  result = loaded_model.predict(l)\n",
        "  print(result[0])\n"
      ],
      "metadata": {
        "colab": {
          "base_uri": "https://localhost:8080/"
        },
        "id": "lwL6XS07vaAn",
        "outputId": "a0ffe022-aad9-4cc5-c4ba-10a02280f234"
      },
      "execution_count": 6,
      "outputs": [
        {
          "name": "stdout",
          "output_type": "stream",
          "text": [
            "Enter URL to classify (enter n to stop): google.com\n",
            "good\n",
            "Enter URL to classify (enter n to stop): n\n"
          ]
        }
      ]
    }
  ]
}