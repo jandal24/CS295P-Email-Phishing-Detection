{
  "nbformat": 4,
  "nbformat_minor": 0,
  "metadata": {
    "colab": {
      "name": "PhishingURL.ipynb",
      "provenance": []
    },
    "kernelspec": {
      "name": "python3",
      "display_name": "Python 3"
    },
    "language_info": {
      "name": "python"
    },
    "accelerator": "GPU"
  },
  "cells": [
    {
      "cell_type": "markdown",
      "source": [
        "# Connect Google Drive\n",
        " Mount your google drive and add **phishing_site_url.csv** into it to use"
      ],
      "metadata": {
        "id": "B9-8ZjBpBMcb"
      }
    },
    {
      "cell_type": "code",
      "source": [
        "from google.colab import drive\n",
        "drive.mount(\"/content/gdrive\")"
      ],
      "metadata": {
        "colab": {
          "base_uri": "https://localhost:8080/"
        },
        "id": "6DbfqAuaRJk8",
        "outputId": "9491fa46-c3ea-4967-d8f2-9012558b5514"
      },
      "execution_count": 1,
      "outputs": [
        {
          "output_type": "stream",
          "name": "stdout",
          "text": [
            "Mounted at /content/gdrive\n"
          ]
        }
      ]
    },
    {
      "cell_type": "markdown",
      "source": [
        ""
      ],
      "metadata": {
        "id": "R4pEZ76mEJRU"
      }
    },
    {
      "cell_type": "code",
      "source": [
        "!pip install selenium "
      ],
      "metadata": {
        "colab": {
          "base_uri": "https://localhost:8080/"
        },
        "id": "9Fi-1bQ5PQDr",
        "outputId": "caa239bd-1cf7-4906-fbfa-13efa0d6dfc8"
      },
      "execution_count": 2,
      "outputs": [
        {
          "output_type": "stream",
          "name": "stdout",
          "text": [
            "Collecting selenium\n",
            "  Downloading selenium-4.1.2-py3-none-any.whl (963 kB)\n",
            "\u001b[K     |████████████████████████████████| 963 kB 7.0 MB/s \n",
            "\u001b[?25hCollecting urllib3[secure,socks]~=1.26\n",
            "  Downloading urllib3-1.26.8-py2.py3-none-any.whl (138 kB)\n",
            "\u001b[K     |████████████████████████████████| 138 kB 42.5 MB/s \n",
            "\u001b[?25hCollecting trio-websocket~=0.9\n",
            "  Downloading trio_websocket-0.9.2-py3-none-any.whl (16 kB)\n",
            "Collecting trio~=0.17\n",
            "  Downloading trio-0.20.0-py3-none-any.whl (359 kB)\n",
            "\u001b[K     |████████████████████████████████| 359 kB 49.9 MB/s \n",
            "\u001b[?25hCollecting outcome\n",
            "  Downloading outcome-1.1.0-py2.py3-none-any.whl (9.7 kB)\n",
            "Requirement already satisfied: attrs>=19.2.0 in /usr/local/lib/python3.7/dist-packages (from trio~=0.17->selenium) (21.4.0)\n",
            "Collecting sniffio\n",
            "  Downloading sniffio-1.2.0-py3-none-any.whl (10 kB)\n",
            "Collecting async-generator>=1.9\n",
            "  Downloading async_generator-1.10-py3-none-any.whl (18 kB)\n",
            "Requirement already satisfied: sortedcontainers in /usr/local/lib/python3.7/dist-packages (from trio~=0.17->selenium) (2.4.0)\n",
            "Requirement already satisfied: idna in /usr/local/lib/python3.7/dist-packages (from trio~=0.17->selenium) (2.10)\n",
            "Collecting wsproto>=0.14\n",
            "  Downloading wsproto-1.1.0-py3-none-any.whl (24 kB)\n",
            "Requirement already satisfied: certifi in /usr/local/lib/python3.7/dist-packages (from urllib3[secure,socks]~=1.26->selenium) (2021.10.8)\n",
            "Collecting cryptography>=1.3.4\n",
            "  Downloading cryptography-36.0.1-cp36-abi3-manylinux_2_24_x86_64.whl (3.6 MB)\n",
            "\u001b[K     |████████████████████████████████| 3.6 MB 55.2 MB/s \n",
            "\u001b[?25hCollecting pyOpenSSL>=0.14\n",
            "  Downloading pyOpenSSL-22.0.0-py2.py3-none-any.whl (55 kB)\n",
            "\u001b[K     |████████████████████████████████| 55 kB 4.5 MB/s \n",
            "\u001b[?25hRequirement already satisfied: PySocks!=1.5.7,<2.0,>=1.5.6 in /usr/local/lib/python3.7/dist-packages (from urllib3[secure,socks]~=1.26->selenium) (1.7.1)\n",
            "Requirement already satisfied: cffi>=1.12 in /usr/local/lib/python3.7/dist-packages (from cryptography>=1.3.4->urllib3[secure,socks]~=1.26->selenium) (1.15.0)\n",
            "Requirement already satisfied: pycparser in /usr/local/lib/python3.7/dist-packages (from cffi>=1.12->cryptography>=1.3.4->urllib3[secure,socks]~=1.26->selenium) (2.21)\n",
            "Collecting h11<1,>=0.9.0\n",
            "  Downloading h11-0.13.0-py3-none-any.whl (58 kB)\n",
            "\u001b[K     |████████████████████████████████| 58 kB 5.0 MB/s \n",
            "\u001b[?25hRequirement already satisfied: typing-extensions in /usr/local/lib/python3.7/dist-packages (from h11<1,>=0.9.0->wsproto>=0.14->trio-websocket~=0.9->selenium) (3.10.0.2)\n",
            "Installing collected packages: sniffio, outcome, h11, cryptography, async-generator, wsproto, urllib3, trio, pyOpenSSL, trio-websocket, selenium\n",
            "  Attempting uninstall: urllib3\n",
            "    Found existing installation: urllib3 1.24.3\n",
            "    Uninstalling urllib3-1.24.3:\n",
            "      Successfully uninstalled urllib3-1.24.3\n",
            "\u001b[31mERROR: pip's dependency resolver does not currently take into account all the packages that are installed. This behaviour is the source of the following dependency conflicts.\n",
            "requests 2.23.0 requires urllib3!=1.25.0,!=1.25.1,<1.26,>=1.21.1, but you have urllib3 1.26.8 which is incompatible.\n",
            "datascience 0.10.6 requires folium==0.2.1, but you have folium 0.8.3 which is incompatible.\u001b[0m\n",
            "Successfully installed async-generator-1.10 cryptography-36.0.1 h11-0.13.0 outcome-1.1.0 pyOpenSSL-22.0.0 selenium-4.1.2 sniffio-1.2.0 trio-0.20.0 trio-websocket-0.9.2 urllib3-1.26.8 wsproto-1.1.0\n"
          ]
        }
      ]
    },
    {
      "cell_type": "code",
      "execution_count": 3,
      "metadata": {
        "id": "F9P9ApCxOMbt"
      },
      "outputs": [],
      "source": [
        "import pandas as pd # use for data manipulation and analysis\n",
        "import numpy as np # use for multi-dimensional array and matrix\n",
        "\n",
        "import seaborn as sns # use for high-level interface for drawing attractive and informative statistical graphics \n",
        "import matplotlib.pyplot as plt # It provides an object-oriented API for embedding plots into applications\n",
        "%matplotlib inline \n",
        "# It sets the backend of matplotlib to the 'inline' backend:\n",
        "import time # calculate time \n",
        "\n",
        "from sklearn.linear_model import LogisticRegression # algo use to predict good or bad\n",
        "from sklearn.naive_bayes import MultinomialNB # nlp algo use to predict good or bad\n",
        "\n",
        "from sklearn.model_selection import train_test_split # spliting the data between feature and target\n",
        "from sklearn.metrics import classification_report # gives whole report about metrics (e.g, recall,precision,f1_score,c_m)\n",
        "from sklearn.metrics import confusion_matrix # gives info about actual and predict\n",
        "from nltk.tokenize import RegexpTokenizer # regexp tokenizers use to split words from text  \n",
        "from nltk.stem.snowball import SnowballStemmer # stemmes words\n",
        "from sklearn.feature_extraction.text import CountVectorizer # create sparse matrix of words using regexptokenizes  \n",
        "from sklearn.pipeline import make_pipeline # use for combining all prerocessors techniuqes and algos\n",
        "\n",
        "from PIL import Image # getting images in notebook\n",
        "# from wordcloud import WordCloud, STOPWORDS, ImageColorGenerator# creates words colud\n",
        "\n",
        "from bs4 import BeautifulSoup # use for scraping the data from website\n",
        "from selenium import webdriver # use for automation chrome \n",
        "import networkx as nx # for the creation, manipulation, and study of the structure, dynamics, and functions of complex networks.\n",
        "\n",
        "import pickle# use to dump model \n",
        "\n",
        "import warnings # ignores pink warnings \n",
        "warnings.filterwarnings('ignore')"
      ]
    },
    {
      "cell_type": "markdown",
      "source": [
        ""
      ],
      "metadata": {
        "id": "AOIHhoruEQba"
      }
    },
    {
      "cell_type": "markdown",
      "source": [
        "#Change Path \n",
        " Update path to where you place **phishing_site_urls.csv** in your google drive"
      ],
      "metadata": {
        "id": "-bWxVXHxBiRf"
      }
    },
    {
      "cell_type": "code",
      "source": [
        "phish_data = pd.read_csv('/content/gdrive/MyDrive/Phishing/Data/phishing_site_urls.csv')\n",
        "phish_data.head()\n"
      ],
      "metadata": {
        "colab": {
          "base_uri": "https://localhost:8080/",
          "height": 206
        },
        "id": "5UK4e6F1RnNg",
        "outputId": "c12393f8-62c2-45b0-f048-094e307615d7"
      },
      "execution_count": 5,
      "outputs": [
        {
          "output_type": "execute_result",
          "data": {
            "text/html": [
              "\n",
              "  <div id=\"df-0f842a3a-1746-44dd-993e-75882d23dde0\">\n",
              "    <div class=\"colab-df-container\">\n",
              "      <div>\n",
              "<style scoped>\n",
              "    .dataframe tbody tr th:only-of-type {\n",
              "        vertical-align: middle;\n",
              "    }\n",
              "\n",
              "    .dataframe tbody tr th {\n",
              "        vertical-align: top;\n",
              "    }\n",
              "\n",
              "    .dataframe thead th {\n",
              "        text-align: right;\n",
              "    }\n",
              "</style>\n",
              "<table border=\"1\" class=\"dataframe\">\n",
              "  <thead>\n",
              "    <tr style=\"text-align: right;\">\n",
              "      <th></th>\n",
              "      <th>URL</th>\n",
              "      <th>Label</th>\n",
              "    </tr>\n",
              "  </thead>\n",
              "  <tbody>\n",
              "    <tr>\n",
              "      <th>0</th>\n",
              "      <td>nobell.it/70ffb52d079109dca5664cce6f317373782/...</td>\n",
              "      <td>bad</td>\n",
              "    </tr>\n",
              "    <tr>\n",
              "      <th>1</th>\n",
              "      <td>www.dghjdgf.com/paypal.co.uk/cycgi-bin/webscrc...</td>\n",
              "      <td>bad</td>\n",
              "    </tr>\n",
              "    <tr>\n",
              "      <th>2</th>\n",
              "      <td>serviciosbys.com/paypal.cgi.bin.get-into.herf....</td>\n",
              "      <td>bad</td>\n",
              "    </tr>\n",
              "    <tr>\n",
              "      <th>3</th>\n",
              "      <td>mail.printakid.com/www.online.americanexpress....</td>\n",
              "      <td>bad</td>\n",
              "    </tr>\n",
              "    <tr>\n",
              "      <th>4</th>\n",
              "      <td>thewhiskeydregs.com/wp-content/themes/widescre...</td>\n",
              "      <td>bad</td>\n",
              "    </tr>\n",
              "  </tbody>\n",
              "</table>\n",
              "</div>\n",
              "      <button class=\"colab-df-convert\" onclick=\"convertToInteractive('df-0f842a3a-1746-44dd-993e-75882d23dde0')\"\n",
              "              title=\"Convert this dataframe to an interactive table.\"\n",
              "              style=\"display:none;\">\n",
              "        \n",
              "  <svg xmlns=\"http://www.w3.org/2000/svg\" height=\"24px\"viewBox=\"0 0 24 24\"\n",
              "       width=\"24px\">\n",
              "    <path d=\"M0 0h24v24H0V0z\" fill=\"none\"/>\n",
              "    <path d=\"M18.56 5.44l.94 2.06.94-2.06 2.06-.94-2.06-.94-.94-2.06-.94 2.06-2.06.94zm-11 1L8.5 8.5l.94-2.06 2.06-.94-2.06-.94L8.5 2.5l-.94 2.06-2.06.94zm10 10l.94 2.06.94-2.06 2.06-.94-2.06-.94-.94-2.06-.94 2.06-2.06.94z\"/><path d=\"M17.41 7.96l-1.37-1.37c-.4-.4-.92-.59-1.43-.59-.52 0-1.04.2-1.43.59L10.3 9.45l-7.72 7.72c-.78.78-.78 2.05 0 2.83L4 21.41c.39.39.9.59 1.41.59.51 0 1.02-.2 1.41-.59l7.78-7.78 2.81-2.81c.8-.78.8-2.07 0-2.86zM5.41 20L4 18.59l7.72-7.72 1.47 1.35L5.41 20z\"/>\n",
              "  </svg>\n",
              "      </button>\n",
              "      \n",
              "  <style>\n",
              "    .colab-df-container {\n",
              "      display:flex;\n",
              "      flex-wrap:wrap;\n",
              "      gap: 12px;\n",
              "    }\n",
              "\n",
              "    .colab-df-convert {\n",
              "      background-color: #E8F0FE;\n",
              "      border: none;\n",
              "      border-radius: 50%;\n",
              "      cursor: pointer;\n",
              "      display: none;\n",
              "      fill: #1967D2;\n",
              "      height: 32px;\n",
              "      padding: 0 0 0 0;\n",
              "      width: 32px;\n",
              "    }\n",
              "\n",
              "    .colab-df-convert:hover {\n",
              "      background-color: #E2EBFA;\n",
              "      box-shadow: 0px 1px 2px rgba(60, 64, 67, 0.3), 0px 1px 3px 1px rgba(60, 64, 67, 0.15);\n",
              "      fill: #174EA6;\n",
              "    }\n",
              "\n",
              "    [theme=dark] .colab-df-convert {\n",
              "      background-color: #3B4455;\n",
              "      fill: #D2E3FC;\n",
              "    }\n",
              "\n",
              "    [theme=dark] .colab-df-convert:hover {\n",
              "      background-color: #434B5C;\n",
              "      box-shadow: 0px 1px 3px 1px rgba(0, 0, 0, 0.15);\n",
              "      filter: drop-shadow(0px 1px 2px rgba(0, 0, 0, 0.3));\n",
              "      fill: #FFFFFF;\n",
              "    }\n",
              "  </style>\n",
              "\n",
              "      <script>\n",
              "        const buttonEl =\n",
              "          document.querySelector('#df-0f842a3a-1746-44dd-993e-75882d23dde0 button.colab-df-convert');\n",
              "        buttonEl.style.display =\n",
              "          google.colab.kernel.accessAllowed ? 'block' : 'none';\n",
              "\n",
              "        async function convertToInteractive(key) {\n",
              "          const element = document.querySelector('#df-0f842a3a-1746-44dd-993e-75882d23dde0');\n",
              "          const dataTable =\n",
              "            await google.colab.kernel.invokeFunction('convertToInteractive',\n",
              "                                                     [key], {});\n",
              "          if (!dataTable) return;\n",
              "\n",
              "          const docLinkHtml = 'Like what you see? Visit the ' +\n",
              "            '<a target=\"_blank\" href=https://colab.research.google.com/notebooks/data_table.ipynb>data table notebook</a>'\n",
              "            + ' to learn more about interactive tables.';\n",
              "          element.innerHTML = '';\n",
              "          dataTable['output_type'] = 'display_data';\n",
              "          await google.colab.output.renderOutput(dataTable, element);\n",
              "          const docLink = document.createElement('div');\n",
              "          docLink.innerHTML = docLinkHtml;\n",
              "          element.appendChild(docLink);\n",
              "        }\n",
              "      </script>\n",
              "    </div>\n",
              "  </div>\n",
              "  "
            ],
            "text/plain": [
              "                                                 URL Label\n",
              "0  nobell.it/70ffb52d079109dca5664cce6f317373782/...   bad\n",
              "1  www.dghjdgf.com/paypal.co.uk/cycgi-bin/webscrc...   bad\n",
              "2  serviciosbys.com/paypal.cgi.bin.get-into.herf....   bad\n",
              "3  mail.printakid.com/www.online.americanexpress....   bad\n",
              "4  thewhiskeydregs.com/wp-content/themes/widescre...   bad"
            ]
          },
          "metadata": {},
          "execution_count": 5
        }
      ]
    },
    {
      "cell_type": "code",
      "source": [
        "phish_data.isnull().sum() # there is no missing values\n"
      ],
      "metadata": {
        "colab": {
          "base_uri": "https://localhost:8080/"
        },
        "id": "9-G0rUbgUgdK",
        "outputId": "e67fc20e-f5e0-4973-8727-591b29387552"
      },
      "execution_count": 6,
      "outputs": [
        {
          "output_type": "execute_result",
          "data": {
            "text/plain": [
              "URL      0\n",
              "Label    0\n",
              "dtype: int64"
            ]
          },
          "metadata": {},
          "execution_count": 6
        }
      ]
    },
    {
      "cell_type": "code",
      "source": [
        "#create a dataframe of classes counts\n",
        "label_counts = pd.DataFrame(phish_data.Label.value_counts())\n",
        "\n",
        "#visualizing target_col\n",
        "sns.set_style('darkgrid')\n",
        "sns.barplot(label_counts.index,label_counts.Label)"
      ],
      "metadata": {
        "colab": {
          "base_uri": "https://localhost:8080/",
          "height": 282
        },
        "id": "rAOeGyjzUmK9",
        "outputId": "1e14f8e7-d52d-48bb-d6cd-7442e31cdb99"
      },
      "execution_count": 7,
      "outputs": [
        {
          "output_type": "execute_result",
          "data": {
            "text/plain": [
              "<matplotlib.axes._subplots.AxesSubplot at 0x7f43431c5c50>"
            ]
          },
          "metadata": {},
          "execution_count": 7
        },
        {
          "output_type": "display_data",
          "data": {
            "image/png": "[encoded data removed]",
            "text/plain": [
              "<Figure size 432x288 with 1 Axes>"
            ]
          },
          "metadata": {}
        }
      ]
    },
    {
      "cell_type": "code",
      "source": [
        "tokenizer = RegexpTokenizer(r'[A-Za-z]+')\n",
        "print('Getting words tokenized ...')\n",
        "t0= time.perf_counter()\n",
        "phish_data['text_tokenized'] = phish_data.URL.map(lambda t: tokenizer.tokenize(t)) # doing with all rows\n",
        "t1 = time.perf_counter() - t0\n",
        "print('Time taken',t1 ,'sec')"
      ],
      "metadata": {
        "colab": {
          "base_uri": "https://localhost:8080/"
        },
        "id": "41_NDyLKVX3x",
        "outputId": "7c4660d4-7edc-453a-e824-d9ce3148a2b1"
      },
      "execution_count": 8,
      "outputs": [
        {
          "output_type": "stream",
          "name": "stdout",
          "text": [
            "Getting words tokenized ...\n",
            "Time taken 2.0095520390000274 sec\n"
          ]
        }
      ]
    },
    {
      "cell_type": "code",
      "source": [
        "phish_data.sample(5)"
      ],
      "metadata": {
        "colab": {
          "base_uri": "https://localhost:8080/",
          "height": 206
        },
        "id": "buy2vyi4Vewq",
        "outputId": "2909ff35-31da-4bf4-c14f-e1604094faa8"
      },
      "execution_count": 9,
      "outputs": [
        {
          "output_type": "execute_result",
          "data": {
            "text/html": [
              "\n",
              "  <div id=\"df-85d19f19-a68e-498a-a416-710bff2c656a\">\n",
              "    <div class=\"colab-df-container\">\n",
              "      <div>\n",
              "<style scoped>\n",
              "    .dataframe tbody tr th:only-of-type {\n",
              "        vertical-align: middle;\n",
              "    }\n",
              "\n",
              "    .dataframe tbody tr th {\n",
              "        vertical-align: top;\n",
              "    }\n",
              "\n",
              "    .dataframe thead th {\n",
              "        text-align: right;\n",
              "    }\n",
              "</style>\n",
              "<table border=\"1\" class=\"dataframe\">\n",
              "  <thead>\n",
              "    <tr style=\"text-align: right;\">\n",
              "      <th></th>\n",
              "      <th>URL</th>\n",
              "      <th>Label</th>\n",
              "      <th>text_tokenized</th>\n",
              "    </tr>\n",
              "  </thead>\n",
              "  <tbody>\n",
              "    <tr>\n",
              "      <th>137409</th>\n",
              "      <td>eastlakesupport.com/images/UK/fox/dropbox/inde...</td>\n",
              "      <td>bad</td>\n",
              "      <td>[eastlakesupport, com, images, UK, fox, dropbo...</td>\n",
              "    </tr>\n",
              "    <tr>\n",
              "      <th>484348</th>\n",
              "      <td>vesivrill-paralelna1.winafordfocus.com/qdlpx02...</td>\n",
              "      <td>bad</td>\n",
              "      <td>[vesivrill, paralelna, winafordfocus, com, qdl...</td>\n",
              "    </tr>\n",
              "    <tr>\n",
              "      <th>406618</th>\n",
              "      <td>nosorigines.qc.ca/genealogielistfirstname.aspx...</td>\n",
              "      <td>good</td>\n",
              "      <td>[nosorigines, qc, ca, genealogielistfirstname,...</td>\n",
              "    </tr>\n",
              "    <tr>\n",
              "      <th>292419</th>\n",
              "      <td>bjhughes.org/hardycem7.html</td>\n",
              "      <td>good</td>\n",
              "      <td>[bjhughes, org, hardycem, html]</td>\n",
              "    </tr>\n",
              "    <tr>\n",
              "      <th>78071</th>\n",
              "      <td>www.rebolforces.com/view-faq.html</td>\n",
              "      <td>good</td>\n",
              "      <td>[www, rebolforces, com, view, faq, html]</td>\n",
              "    </tr>\n",
              "  </tbody>\n",
              "</table>\n",
              "</div>\n",
              "      <button class=\"colab-df-convert\" onclick=\"convertToInteractive('df-85d19f19-a68e-498a-a416-710bff2c656a')\"\n",
              "              title=\"Convert this dataframe to an interactive table.\"\n",
              "              style=\"display:none;\">\n",
              "        \n",
              "  <svg xmlns=\"http://www.w3.org/2000/svg\" height=\"24px\"viewBox=\"0 0 24 24\"\n",
              "       width=\"24px\">\n",
              "    <path d=\"M0 0h24v24H0V0z\" fill=\"none\"/>\n",
              "    <path d=\"M18.56 5.44l.94 2.06.94-2.06 2.06-.94-2.06-.94-.94-2.06-.94 2.06-2.06.94zm-11 1L8.5 8.5l.94-2.06 2.06-.94-2.06-.94L8.5 2.5l-.94 2.06-2.06.94zm10 10l.94 2.06.94-2.06 2.06-.94-2.06-.94-.94-2.06-.94 2.06-2.06.94z\"/><path d=\"M17.41 7.96l-1.37-1.37c-.4-.4-.92-.59-1.43-.59-.52 0-1.04.2-1.43.59L10.3 9.45l-7.72 7.72c-.78.78-.78 2.05 0 2.83L4 21.41c.39.39.9.59 1.41.59.51 0 1.02-.2 1.41-.59l7.78-7.78 2.81-2.81c.8-.78.8-2.07 0-2.86zM5.41 20L4 18.59l7.72-7.72 1.47 1.35L5.41 20z\"/>\n",
              "  </svg>\n",
              "      </button>\n",
              "      \n",
              "  <style>\n",
              "    .colab-df-container {\n",
              "      display:flex;\n",
              "      flex-wrap:wrap;\n",
              "      gap: 12px;\n",
              "    }\n",
              "\n",
              "    .colab-df-convert {\n",
              "      background-color: #E8F0FE;\n",
              "      border: none;\n",
              "      border-radius: 50%;\n",
              "      cursor: pointer;\n",
              "      display: none;\n",
              "      fill: #1967D2;\n",
              "      height: 32px;\n",
              "      padding: 0 0 0 0;\n",
              "      width: 32px;\n",
              "    }\n",
              "\n",
              "    .colab-df-convert:hover {\n",
              "      background-color: #E2EBFA;\n",
              "      box-shadow: 0px 1px 2px rgba(60, 64, 67, 0.3), 0px 1px 3px 1px rgba(60, 64, 67, 0.15);\n",
              "      fill: #174EA6;\n",
              "    }\n",
              "\n",
              "    [theme=dark] .colab-df-convert {\n",
              "      background-color: #3B4455;\n",
              "      fill: #D2E3FC;\n",
              "    }\n",
              "\n",
              "    [theme=dark] .colab-df-convert:hover {\n",
              "      background-color: #434B5C;\n",
              "      box-shadow: 0px 1px 3px 1px rgba(0, 0, 0, 0.15);\n",
              "      filter: drop-shadow(0px 1px 2px rgba(0, 0, 0, 0.3));\n",
              "      fill: #FFFFFF;\n",
              "    }\n",
              "  </style>\n",
              "\n",
              "      <script>\n",
              "        const buttonEl =\n",
              "          document.querySelector('#df-85d19f19-a68e-498a-a416-710bff2c656a button.colab-df-convert');\n",
              "        buttonEl.style.display =\n",
              "          google.colab.kernel.accessAllowed ? 'block' : 'none';\n",
              "\n",
              "        async function convertToInteractive(key) {\n",
              "          const element = document.querySelector('#df-85d19f19-a68e-498a-a416-710bff2c656a');\n",
              "          const dataTable =\n",
              "            await google.colab.kernel.invokeFunction('convertToInteractive',\n",
              "                                                     [key], {});\n",
              "          if (!dataTable) return;\n",
              "\n",
              "          const docLinkHtml = 'Like what you see? Visit the ' +\n",
              "            '<a target=\"_blank\" href=https://colab.research.google.com/notebooks/data_table.ipynb>data table notebook</a>'\n",
              "            + ' to learn more about interactive tables.';\n",
              "          element.innerHTML = '';\n",
              "          dataTable['output_type'] = 'display_data';\n",
              "          await google.colab.output.renderOutput(dataTable, element);\n",
              "          const docLink = document.createElement('div');\n",
              "          docLink.innerHTML = docLinkHtml;\n",
              "          element.appendChild(docLink);\n",
              "        }\n",
              "      </script>\n",
              "    </div>\n",
              "  </div>\n",
              "  "
            ],
            "text/plain": [
              "                                                      URL Label  \\\n",
              "137409  eastlakesupport.com/images/UK/fox/dropbox/inde...   bad   \n",
              "484348  vesivrill-paralelna1.winafordfocus.com/qdlpx02...   bad   \n",
              "406618  nosorigines.qc.ca/genealogielistfirstname.aspx...  good   \n",
              "292419                        bjhughes.org/hardycem7.html  good   \n",
              "78071                   www.rebolforces.com/view-faq.html  good   \n",
              "\n",
              "                                           text_tokenized  \n",
              "137409  [eastlakesupport, com, images, UK, fox, dropbo...  \n",
              "484348  [vesivrill, paralelna, winafordfocus, com, qdl...  \n",
              "406618  [nosorigines, qc, ca, genealogielistfirstname,...  \n",
              "292419                    [bjhughes, org, hardycem, html]  \n",
              "78071            [www, rebolforces, com, view, faq, html]  "
            ]
          },
          "metadata": {},
          "execution_count": 9
        }
      ]
    },
    {
      "cell_type": "code",
      "source": [
        "stemmer = SnowballStemmer(\"english\") # choose a language\n",
        "\n",
        "print('Getting words stemmed ...')\n",
        "t0= time.perf_counter()\n",
        "phish_data['text_stemmed'] = phish_data['text_tokenized'].map(lambda l: [stemmer.stem(word) for word in l])\n",
        "t1= time.perf_counter() - t0\n",
        "print('Time taken',t1 ,'sec')\n",
        "\n",
        "phish_data.sample(5)"
      ],
      "metadata": {
        "colab": {
          "base_uri": "https://localhost:8080/",
          "height": 241
        },
        "id": "PZKqiqvqWhxo",
        "outputId": "41df9688-c215-4ecc-8b08-105ec9d2859d"
      },
      "execution_count": 10,
      "outputs": [
        {
          "output_type": "stream",
          "name": "stdout",
          "text": [
            "Getting words stemmed ...\n",
            "Time taken 47.19507912900008 sec\n"
          ]
        },
        {
          "output_type": "execute_result",
          "data": {
            "text/html": [
              "\n",
              "  <div id=\"df-306882d1-f408-4e32-8e08-5ca80aff50d5\">\n",
              "    <div class=\"colab-df-container\">\n",
              "      <div>\n",
              "<style scoped>\n",
              "    .dataframe tbody tr th:only-of-type {\n",
              "        vertical-align: middle;\n",
              "    }\n",
              "\n",
              "    .dataframe tbody tr th {\n",
              "        vertical-align: top;\n",
              "    }\n",
              "\n",
              "    .dataframe thead th {\n",
              "        text-align: right;\n",
              "    }\n",
              "</style>\n",
              "<table border=\"1\" class=\"dataframe\">\n",
              "  <thead>\n",
              "    <tr style=\"text-align: right;\">\n",
              "      <th></th>\n",
              "      <th>URL</th>\n",
              "      <th>Label</th>\n",
              "      <th>text_tokenized</th>\n",
              "      <th>text_stemmed</th>\n",
              "    </tr>\n",
              "  </thead>\n",
              "  <tbody>\n",
              "    <tr>\n",
              "      <th>18448</th>\n",
              "      <td>esxcc.com/js/index.htm?us.battle.net/login/en/...</td>\n",
              "      <td>bad</td>\n",
              "      <td>[esxcc, com, js, index, htm, us, battle, net, ...</td>\n",
              "      <td>[esxcc, com, js, index, htm, us, battl, net, l...</td>\n",
              "    </tr>\n",
              "    <tr>\n",
              "      <th>237419</th>\n",
              "      <td>scottfalco.deviantart.com/</td>\n",
              "      <td>good</td>\n",
              "      <td>[scottfalco, deviantart, com]</td>\n",
              "      <td>[scottfalco, deviantart, com]</td>\n",
              "    </tr>\n",
              "    <tr>\n",
              "      <th>12789</th>\n",
              "      <td>login.payspl.com/cms_online/webscr=H4dqUOL_LLG...</td>\n",
              "      <td>bad</td>\n",
              "      <td>[login, payspl, com, cms, online, webscr, H, d...</td>\n",
              "      <td>[login, payspl, com, cms, onlin, webscr, h, dq...</td>\n",
              "    </tr>\n",
              "    <tr>\n",
              "      <th>509333</th>\n",
              "      <td>dolittlachedt.ru/sliva/admin.php</td>\n",
              "      <td>bad</td>\n",
              "      <td>[dolittlachedt, ru, sliva, admin, php]</td>\n",
              "      <td>[dolittlachedt, ru, sliva, admin, php]</td>\n",
              "    </tr>\n",
              "    <tr>\n",
              "      <th>115618</th>\n",
              "      <td>stjudebossier.org/images/stc/mesaj.htm</td>\n",
              "      <td>bad</td>\n",
              "      <td>[stjudebossier, org, images, stc, mesaj, htm]</td>\n",
              "      <td>[stjudebossi, org, imag, stc, mesaj, htm]</td>\n",
              "    </tr>\n",
              "  </tbody>\n",
              "</table>\n",
              "</div>\n",
              "      <button class=\"colab-df-convert\" onclick=\"convertToInteractive('df-306882d1-f408-4e32-8e08-5ca80aff50d5')\"\n",
              "              title=\"Convert this dataframe to an interactive table.\"\n",
              "              style=\"display:none;\">\n",
              "        \n",
              "  <svg xmlns=\"http://www.w3.org/2000/svg\" height=\"24px\"viewBox=\"0 0 24 24\"\n",
              "       width=\"24px\">\n",
              "    <path d=\"M0 0h24v24H0V0z\" fill=\"none\"/>\n",
              "    <path d=\"M18.56 5.44l.94 2.06.94-2.06 2.06-.94-2.06-.94-.94-2.06-.94 2.06-2.06.94zm-11 1L8.5 8.5l.94-2.06 2.06-.94-2.06-.94L8.5 2.5l-.94 2.06-2.06.94zm10 10l.94 2.06.94-2.06 2.06-.94-2.06-.94-.94-2.06-.94 2.06-2.06.94z\"/><path d=\"M17.41 7.96l-1.37-1.37c-.4-.4-.92-.59-1.43-.59-.52 0-1.04.2-1.43.59L10.3 9.45l-7.72 7.72c-.78.78-.78 2.05 0 2.83L4 21.41c.39.39.9.59 1.41.59.51 0 1.02-.2 1.41-.59l7.78-7.78 2.81-2.81c.8-.78.8-2.07 0-2.86zM5.41 20L4 18.59l7.72-7.72 1.47 1.35L5.41 20z\"/>\n",
              "  </svg>\n",
              "      </button>\n",
              "      \n",
              "  <style>\n",
              "    .colab-df-container {\n",
              "      display:flex;\n",
              "      flex-wrap:wrap;\n",
              "      gap: 12px;\n",
              "    }\n",
              "\n",
              "    .colab-df-convert {\n",
              "      background-color: #E8F0FE;\n",
              "      border: none;\n",
              "      border-radius: 50%;\n",
              "      cursor: pointer;\n",
              "      display: none;\n",
              "      fill: #1967D2;\n",
              "      height: 32px;\n",
              "      padding: 0 0 0 0;\n",
              "      width: 32px;\n",
              "    }\n",
              "\n",
              "    .colab-df-convert:hover {\n",
              "      background-color: #E2EBFA;\n",
              "      box-shadow: 0px 1px 2px rgba(60, 64, 67, 0.3), 0px 1px 3px 1px rgba(60, 64, 67, 0.15);\n",
              "      fill: #174EA6;\n",
              "    }\n",
              "\n",
              "    [theme=dark] .colab-df-convert {\n",
              "      background-color: #3B4455;\n",
              "      fill: #D2E3FC;\n",
              "    }\n",
              "\n",
              "    [theme=dark] .colab-df-convert:hover {\n",
              "      background-color: #434B5C;\n",
              "      box-shadow: 0px 1px 3px 1px rgba(0, 0, 0, 0.15);\n",
              "      filter: drop-shadow(0px 1px 2px rgba(0, 0, 0, 0.3));\n",
              "      fill: #FFFFFF;\n",
              "    }\n",
              "  </style>\n",
              "\n",
              "      <script>\n",
              "        const buttonEl =\n",
              "          document.querySelector('#df-306882d1-f408-4e32-8e08-5ca80aff50d5 button.colab-df-convert');\n",
              "        buttonEl.style.display =\n",
              "          google.colab.kernel.accessAllowed ? 'block' : 'none';\n",
              "\n",
              "        async function convertToInteractive(key) {\n",
              "          const element = document.querySelector('#df-306882d1-f408-4e32-8e08-5ca80aff50d5');\n",
              "          const dataTable =\n",
              "            await google.colab.kernel.invokeFunction('convertToInteractive',\n",
              "                                                     [key], {});\n",
              "          if (!dataTable) return;\n",
              "\n",
              "          const docLinkHtml = 'Like what you see? Visit the ' +\n",
              "            '<a target=\"_blank\" href=https://colab.research.google.com/notebooks/data_table.ipynb>data table notebook</a>'\n",
              "            + ' to learn more about interactive tables.';\n",
              "          element.innerHTML = '';\n",
              "          dataTable['output_type'] = 'display_data';\n",
              "          await google.colab.output.renderOutput(dataTable, element);\n",
              "          const docLink = document.createElement('div');\n",
              "          docLink.innerHTML = docLinkHtml;\n",
              "          element.appendChild(docLink);\n",
              "        }\n",
              "      </script>\n",
              "    </div>\n",
              "  </div>\n",
              "  "
            ],
            "text/plain": [
              "                                                      URL Label  \\\n",
              "18448   esxcc.com/js/index.htm?us.battle.net/login/en/...   bad   \n",
              "237419                         scottfalco.deviantart.com/  good   \n",
              "12789   login.payspl.com/cms_online/webscr=H4dqUOL_LLG...   bad   \n",
              "509333                   dolittlachedt.ru/sliva/admin.php   bad   \n",
              "115618             stjudebossier.org/images/stc/mesaj.htm   bad   \n",
              "\n",
              "                                           text_tokenized  \\\n",
              "18448   [esxcc, com, js, index, htm, us, battle, net, ...   \n",
              "237419                      [scottfalco, deviantart, com]   \n",
              "12789   [login, payspl, com, cms, online, webscr, H, d...   \n",
              "509333             [dolittlachedt, ru, sliva, admin, php]   \n",
              "115618      [stjudebossier, org, images, stc, mesaj, htm]   \n",
              "\n",
              "                                             text_stemmed  \n",
              "18448   [esxcc, com, js, index, htm, us, battl, net, l...  \n",
              "237419                      [scottfalco, deviantart, com]  \n",
              "12789   [login, payspl, com, cms, onlin, webscr, h, dq...  \n",
              "509333             [dolittlachedt, ru, sliva, admin, php]  \n",
              "115618          [stjudebossi, org, imag, stc, mesaj, htm]  "
            ]
          },
          "metadata": {},
          "execution_count": 10
        }
      ]
    },
    {
      "cell_type": "code",
      "source": [
        "print('Getting joiningwords ...')\n",
        "t0= time.perf_counter()\n",
        "phish_data['text_sent'] = phish_data['text_stemmed'].map(lambda l: ' '.join(l))\n",
        "t1= time.perf_counter() - t0\n",
        "print('Time taken',t1 ,'sec')"
      ],
      "metadata": {
        "colab": {
          "base_uri": "https://localhost:8080/"
        },
        "id": "yUcrSWzReldA",
        "outputId": "86af3391-b1d3-4252-ffed-390d8eac7e4d"
      },
      "execution_count": 11,
      "outputs": [
        {
          "output_type": "stream",
          "name": "stdout",
          "text": [
            "Getting joiningwords ...\n",
            "Time taken 0.21630548299992824 sec\n"
          ]
        }
      ]
    },
    {
      "cell_type": "code",
      "source": [
        "#sliceing classes\n",
        "bad_sites = phish_data[phish_data.Label == 'bad']\n",
        "good_sites = phish_data[phish_data.Label == 'good']"
      ],
      "metadata": {
        "id": "QMTzyPe3W6_i"
      },
      "execution_count": 12,
      "outputs": []
    },
    {
      "cell_type": "code",
      "source": [
        "#create cv object\n",
        "cv = CountVectorizer()"
      ],
      "metadata": {
        "id": "GifSqUfmW7I4"
      },
      "execution_count": 13,
      "outputs": []
    },
    {
      "cell_type": "code",
      "source": [
        "pipeline_ls = make_pipeline(CountVectorizer(tokenizer = RegexpTokenizer(r'[A-Za-z]+').tokenize,stop_words='english'), LogisticRegression())\n",
        "##(r'\\b(?:http|ftp)s?://\\S*\\w|\\w+|[^\\w\\s]+') ([a-zA-Z]+)([0-9]+) -- these tolenizers giving me low accuray "
      ],
      "metadata": {
        "id": "-RXZKVCBh5U3"
      },
      "execution_count": 14,
      "outputs": []
    },
    {
      "cell_type": "code",
      "source": [
        "trainX, testX, trainY, testY = train_test_split(phish_data.URL, phish_data.Label)\n"
      ],
      "metadata": {
        "id": "1EIE909Eh5_F"
      },
      "execution_count": 15,
      "outputs": []
    },
    {
      "cell_type": "code",
      "source": [
        "pipeline_ls.fit(trainX,trainY)\n"
      ],
      "metadata": {
        "colab": {
          "base_uri": "https://localhost:8080/"
        },
        "id": "2i_BYaBBiFWd",
        "outputId": "68d642fa-9158-4661-c4f9-235f4fc17848"
      },
      "execution_count": 16,
      "outputs": [
        {
          "output_type": "execute_result",
          "data": {
            "text/plain": [
              "Pipeline(steps=[('countvectorizer',\n",
              "                 CountVectorizer(stop_words='english',\n",
              "                                 tokenizer=<bound method RegexpTokenizer.tokenize of RegexpTokenizer(pattern='[A-Za-z]+', gaps=False, discard_empty=True, flags=<RegexFlag.UNICODE|DOTALL|MULTILINE: 56>)>)),\n",
              "                ('logisticregression', LogisticRegression())])"
            ]
          },
          "metadata": {},
          "execution_count": 16
        }
      ]
    },
    {
      "cell_type": "code",
      "source": [
        "pipeline_ls.score(testX,testY) \n"
      ],
      "metadata": {
        "colab": {
          "base_uri": "https://localhost:8080/"
        },
        "id": "xUYN17lGiIne",
        "outputId": "dc56e32a-369c-4e46-a035-a8bb458e2dd5"
      },
      "execution_count": 17,
      "outputs": [
        {
          "output_type": "execute_result",
          "data": {
            "text/plain": [
              "0.9660033348624187"
            ]
          },
          "metadata": {},
          "execution_count": 17
        }
      ]
    },
    {
      "cell_type": "code",
      "source": [
        "print('Training Accuracy :',pipeline_ls.score(trainX,trainY))\n",
        "print('Testing Accuracy :',pipeline_ls.score(testX,testY))\n",
        "con_mat = pd.DataFrame(confusion_matrix(pipeline_ls.predict(testX), testY),\n",
        "            columns = ['Predicted:Bad', 'Predicted:Good'],\n",
        "            index = ['Actual:Bad', 'Actual:Good'])\n",
        "\n",
        "\n",
        "print('\\nCLASSIFICATION REPORT\\n')\n",
        "print(classification_report(pipeline_ls.predict(testX), testY,\n",
        "                            target_names =['Bad','Good']))\n",
        "\n",
        "print('\\nCONFUSION MATRIX')\n",
        "plt.figure(figsize= (6,4))\n",
        "sns.heatmap(con_mat, annot = True,fmt='d',cmap=\"YlGnBu\")"
      ],
      "metadata": {
        "colab": {
          "base_uri": "https://localhost:8080/",
          "height": 560
        },
        "id": "CGz8ADi1iMZ3",
        "outputId": "a961d3d1-e44c-4e34-f217-9fdf12acf670"
      },
      "execution_count": 18,
      "outputs": [
        {
          "output_type": "stream",
          "name": "stdout",
          "text": [
            "Training Accuracy : 0.980381496520707\n",
            "Testing Accuracy : 0.9660033348624187\n",
            "\n",
            "CLASSIFICATION REPORT\n",
            "\n",
            "              precision    recall  f1-score   support\n",
            "\n",
            "         Bad       0.91      0.97      0.94     36703\n",
            "        Good       0.99      0.97      0.98    100634\n",
            "\n",
            "    accuracy                           0.97    137337\n",
            "   macro avg       0.95      0.97      0.96    137337\n",
            "weighted avg       0.97      0.97      0.97    137337\n",
            "\n",
            "\n",
            "CONFUSION MATRIX\n"
          ]
        },
        {
          "output_type": "execute_result",
          "data": {
            "text/plain": [
              "<matplotlib.axes._subplots.AxesSubplot at 0x7f430b7f0110>"
            ]
          },
          "metadata": {},
          "execution_count": 18
        },
        {
          "output_type": "display_data",
          "data": {
            "image/png": "[encoded data removed]",
            "text/plain": [
              "<Figure size 432x288 with 2 Axes>"
            ]
          },
          "metadata": {}
        }
      ]
    },
    {
      "cell_type": "code",
      "source": [
        "pickle.dump(pipeline_ls,open('phishing.pkl','wb'))\n"
      ],
      "metadata": {
        "id": "s8u_EIkfhkcB"
      },
      "execution_count": 19,
      "outputs": []
    }
  ]
}